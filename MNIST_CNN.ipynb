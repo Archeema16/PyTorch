{
 "cells": [
  {
   "cell_type": "code",
   "execution_count": 1,
   "id": "5a0186c8",
   "metadata": {},
   "outputs": [
    {
     "name": "stderr",
     "output_type": "stream",
     "text": [
      "C:\\Users\\Lenovo\\anaconda3\\envs\\dataml100\\lib\\site-packages\\scipy\\__init__.py:146: UserWarning: A NumPy version >=1.16.5 and <1.23.0 is required for this version of SciPy (detected version 1.23.2\n",
      "  warnings.warn(f\"A NumPy version >={np_minversion} and <{np_maxversion}\"\n"
     ]
    }
   ],
   "source": [
    "import torch\n",
    "import torch.nn as nn\n",
    "import torch.nn.functional as F\n",
    "from torch.utils.data import DataLoader \n",
    "from torchvision import datasets,transforms\n",
    "from torchsummary import summary\n",
    "\n",
    "\n",
    "import numpy as np\n",
    "from sklearn.metrics import confusion_matrix,classification_report\n",
    "import matplotlib.pyplot as plt"
   ]
  },
  {
   "cell_type": "code",
   "execution_count": 2,
   "id": "50aae6fd",
   "metadata": {},
   "outputs": [],
   "source": [
    "#Convert MNIST image files as Tensors of 4-Dimesnions (# of Images, Height, Width, Color Channel)\n",
    "transformToTensor = transforms.ToTensor()"
   ]
  },
  {
   "cell_type": "code",
   "execution_count": 3,
   "id": "b025f84a",
   "metadata": {},
   "outputs": [],
   "source": [
    "root_dir = './data'  # Change this path according to your setup\n",
    "\n",
    "# Instantiate MNIST dataset\n",
    "trainData = datasets.MNIST(root=root_dir, train=True,download=True, transform=transformToTensor)"
   ]
  },
  {
   "cell_type": "code",
   "execution_count": 4,
   "id": "ac0a23f4",
   "metadata": {},
   "outputs": [],
   "source": [
    "testData = datasets.MNIST(root=root_dir,train=False,download=True, transform=transformToTensor)"
   ]
  },
  {
   "cell_type": "code",
   "execution_count": 5,
   "id": "84df2dfb",
   "metadata": {},
   "outputs": [
    {
     "name": "stdout",
     "output_type": "stream",
     "text": [
      "Dataset MNIST\n",
      "    Number of datapoints: 60000\n",
      "    Root location: ./data\n",
      "    Split: Train\n",
      "    StandardTransform\n",
      "Transform: ToTensor() Dataset MNIST\n",
      "    Number of datapoints: 10000\n",
      "    Root location: ./data\n",
      "    Split: Test\n",
      "    StandardTransform\n",
      "Transform: ToTensor()\n"
     ]
    }
   ],
   "source": [
    "print(trainData,testData)"
   ]
  },
  {
   "cell_type": "code",
   "execution_count": 6,
   "id": "968ff773",
   "metadata": {},
   "outputs": [],
   "source": [
    "#DataLoader is used so you don't overrun your Memory with a large datset\n",
    "#Creating a small batch size for images\n",
    "trainLoader = DataLoader(trainData, batch_size=100,shuffle=True)\n",
    "testLoader = DataLoader(testData, batch_size=100,shuffle=False)"
   ]
  },
  {
   "cell_type": "markdown",
   "id": "71d2196c",
   "metadata": {},
   "source": [
    "### Single Image Example"
   ]
  },
  {
   "cell_type": "code",
   "execution_count": 7,
   "id": "4c6dadfc",
   "metadata": {},
   "outputs": [
    {
     "name": "stdout",
     "output_type": "stream",
     "text": [
      "As Loader Batch Size is 100 so it will give 100 images at each iteration  torch.Size([100, 1, 28, 28])\n",
      "As we are traversing MNIST Data Directly it will give 1 image torch.Size([1, 28, 28]) Belonging to class  5\n"
     ]
    }
   ],
   "source": [
    "#Getting Single Example from MNIST Data\n",
    "\n",
    "for single_X_train , single_Y_train in trainLoader:\n",
    "    break\n",
    "    \n",
    "print(\"As Loader Batch Size is 100 so it will give 100 images at each iteration \",single_X_train.shape)\n",
    "\n",
    "\n",
    "for single_X_train , single_Y_train in trainData:\n",
    "    break\n",
    "    \n",
    "print(\"As we are traversing MNIST Data Directly it will give 1 image\",single_X_train.shape,\"Belonging to class \", single_Y_train)\n",
    "\n",
    "x = single_X_train\n",
    "x = x.reshape(1,1,28,28)"
   ]
  },
  {
   "cell_type": "code",
   "execution_count": 8,
   "id": "c75d6dd5",
   "metadata": {},
   "outputs": [],
   "source": [
    "#Define The  Model\n",
    "#Input is White and Black so 1 Channel as we are going to Give one image, #6 Filters , size of filter 3*3, stride=1, padding=valid mean no padding added\n",
    "conv1 = nn.Conv2d(in_channels=1,out_channels=6,kernel_size=(3,3),stride=1,padding=\"valid\")\n",
    "\n",
    "#Input is 6 as last layer there were 6 filters, # 16 Filters , size of filter 5*5, stride=1, padding=valid mean no padding added\n",
    "conv2 = nn.Conv2d(in_channels=6,out_channels=16,kernel_size=(5,5),stride=1,padding=\"valid\")"
   ]
  },
  {
   "cell_type": "code",
   "execution_count": 9,
   "id": "7aea27bc",
   "metadata": {},
   "outputs": [
    {
     "name": "stdout",
     "output_type": "stream",
     "text": [
      "torch.Size([1, 1, 28, 28])\n",
      "torch.Size([1, 6, 26, 26])\n",
      "torch.Size([1, 6, 13, 13])\n",
      "torch.Size([1, 16, 9, 9])\n",
      "torch.Size([1, 16, 4, 4])\n"
     ]
    }
   ],
   "source": [
    "\n",
    "print(x.shape)\n",
    "\n",
    "#1 layer\n",
    "x = F.relu(conv1(x))\n",
    "print(x.shape)\n",
    "x = F.max_pool2d(x,kernel_size=(2,2),stride=2)\n",
    "print(x.shape)\n",
    "\n",
    "#2nd Layer\n",
    "x = F.relu(conv2(x))\n",
    "print(x.shape)\n",
    "x = F.max_pool2d(x,kernel_size=(2,2),stride=2)\n",
    "print(x.shape)\n"
   ]
  },
  {
   "cell_type": "code",
   "execution_count": null,
   "id": "31526d5c",
   "metadata": {},
   "outputs": [],
   "source": []
  },
  {
   "cell_type": "markdown",
   "id": "cf8c7c48",
   "metadata": {},
   "source": [
    "### DataSet Example"
   ]
  },
  {
   "cell_type": "code",
   "execution_count": 10,
   "id": "54d5a0b9",
   "metadata": {},
   "outputs": [],
   "source": [
    "class CNN(nn.Module):\n",
    "    def __init__(self):\n",
    "        super().__init__()\n",
    "        \n",
    "        # Convolutions Part\n",
    "        self.conv1 = nn.Conv2d(in_channels=1,out_channels=6,kernel_size=(3,3),stride=1,padding=\"valid\")\n",
    "        #We are defining structure of Model so Instead of using Functional.maxpool2d we use nn.MaxPool2d\n",
    "        self.pool1 = nn.MaxPool2d(kernel_size=(2,2),stride=2) \n",
    "        self.conv2 = nn.Conv2d(in_channels=6,out_channels=16,kernel_size=(3,3),stride=1,padding=\"valid\")\n",
    "        self.pool2 = nn.MaxPool2d(kernel_size=(2,2),stride=2)\n",
    "        \n",
    "        # Bridge Both Parts by Flattening \n",
    "        self.Flatten = torch.nn.Flatten(start_dim=1, end_dim=-1) #As 0 index contain batch which in this case is 10\n",
    "        \n",
    "        # Neural Network Part\n",
    "        self.fc1 = nn.Linear(in_features = 16*5*5,out_features = 120) #So the output of Convolutional Network will go into 120 Fully Connected Neurons\n",
    "        self.fc2 = nn.Linear(in_features = 120,out_features = 60) #So the output of 1st FC Layer of 120 Neurons will go to 2 FC Layer of 60 Neurons\n",
    "        \n",
    "        #So the output of 2nd FC Layer of 60 Neurons will go to otput layer of 10 Neurons as there ARE 10 CLASSES\n",
    "        self.outputLayer = nn.Linear(in_features = 60,out_features = 10) \n",
    "        \n",
    "        \n",
    "        \n",
    "        \n",
    "    def forward(self,x):\n",
    "        \n",
    "        x = self.conv1(x)\n",
    "        x = F.relu(x)\n",
    "        x = self.pool1(x)\n",
    "        \n",
    "        x = self.conv2(x)\n",
    "        x = F.relu(x)\n",
    "        x = self.pool2(x)\n",
    "\n",
    "        x = self.Flatten(x)\n",
    "        \n",
    "        x = self.fc1(x)\n",
    "        x = F.relu(x)\n",
    "        x = self.fc2(x)\n",
    "        x = F.relu(x)\n",
    "        x = self.outputLayer(x)\n",
    "        \n",
    "        return F.log_softmax(x)\n",
    "        \n",
    "#while softmax converts logits to probabilities, log softmax provides the logarithm of those probabilities \n",
    "#which can be useful for numerical stability and certain loss functions\n",
    "        "
   ]
  },
  {
   "cell_type": "code",
   "execution_count": 11,
   "id": "400b5826",
   "metadata": {},
   "outputs": [
    {
     "name": "stdout",
     "output_type": "stream",
     "text": [
      "----------------------------------------------------------------\n",
      "        Layer (type)               Output Shape         Param #\n",
      "================================================================\n",
      "            Conv2d-1            [-1, 6, 26, 26]              60\n",
      "         MaxPool2d-2            [-1, 6, 13, 13]               0\n",
      "            Conv2d-3           [-1, 16, 11, 11]             880\n",
      "         MaxPool2d-4             [-1, 16, 5, 5]               0\n",
      "           Flatten-5                  [-1, 400]               0\n",
      "            Linear-6                  [-1, 120]          48,120\n",
      "            Linear-7                   [-1, 60]           7,260\n",
      "            Linear-8                   [-1, 10]             610\n",
      "================================================================\n",
      "Total params: 56,930\n",
      "Trainable params: 56,930\n",
      "Non-trainable params: 0\n",
      "----------------------------------------------------------------\n",
      "Input size (MB): 0.00\n",
      "Forward/backward pass size (MB): 0.06\n",
      "Params size (MB): 0.22\n",
      "Estimated Total Size (MB): 0.28\n",
      "----------------------------------------------------------------\n"
     ]
    },
    {
     "name": "stderr",
     "output_type": "stream",
     "text": [
      "C:\\Users\\Lenovo\\AppData\\Local\\Temp\\ipykernel_13464\\2284576426.py:43: UserWarning: Implicit dimension choice for log_softmax has been deprecated. Change the call to include dim=X as an argument.\n",
      "  return F.log_softmax(x)\n"
     ]
    }
   ],
   "source": [
    "#Create An instance and see if the model is compiled properly giving a test by input size\n",
    "model = CNN()\n",
    "summary(model, input_size=(1, 28, 28))"
   ]
  },
  {
   "cell_type": "code",
   "execution_count": 12,
   "id": "d6815a7e",
   "metadata": {},
   "outputs": [],
   "source": [
    "#Loss Function and Optimizer\n",
    "criterion = nn.CrossEntropyLoss() #As Multi-class Classification problem\n",
    "optimizer = torch.optim.Adam(model.parameters(),lr=0.02)"
   ]
  },
  {
   "cell_type": "markdown",
   "id": "fc73f76e",
   "metadata": {},
   "source": [
    "#### Train The Model"
   ]
  },
  {
   "cell_type": "code",
   "execution_count": 13,
   "id": "ec215591",
   "metadata": {},
   "outputs": [
    {
     "name": "stderr",
     "output_type": "stream",
     "text": [
      "C:\\Users\\Lenovo\\AppData\\Local\\Temp\\ipykernel_13464\\2284576426.py:43: UserWarning: Implicit dimension choice for log_softmax has been deprecated. Change the call to include dim=X as an argument.\n",
      "  return F.log_softmax(x)\n"
     ]
    },
    {
     "name": "stdout",
     "output_type": "stream",
     "text": [
      "Epoch: 1 , Batch No: 300, Loss of This Batch: 0.1226305216550827\n",
      "Epoch: 1 , Batch No: 600, Loss of This Batch: 0.19427216053009033\n",
      "Epoch: 1 , Avg Loss: 0.20715199776925147, Total Guessed Correct in Training Data: 56128 / 60000\n",
      "Epoch: 2 , Batch No: 300, Loss of This Batch: 0.13380365073680878\n",
      "Epoch: 2 , Batch No: 600, Loss of This Batch: 0.23911142349243164\n",
      "Epoch: 2 , Avg Loss: 0.1034075680479873, Total Guessed Correct in Training Data: 58273 / 60000\n",
      "Epoch: 3 , Batch No: 300, Loss of This Batch: 0.07906707376241684\n",
      "Epoch: 3 , Batch No: 600, Loss of This Batch: 0.1421235203742981\n",
      "Epoch: 3 , Avg Loss: 0.09676773292128928, Total Guessed Correct in Training Data: 58411 / 60000\n",
      "Epoch: 4 , Batch No: 300, Loss of This Batch: 0.02534041367471218\n",
      "Epoch: 4 , Batch No: 600, Loss of This Batch: 0.01807388663291931\n",
      "Epoch: 4 , Avg Loss: 0.10026498571465102, Total Guessed Correct in Training Data: 58403 / 60000\n",
      "Epoch: 5 , Batch No: 300, Loss of This Batch: 0.01569918915629387\n",
      "Epoch: 5 , Batch No: 600, Loss of This Batch: 0.04786108061671257\n",
      "Epoch: 5 , Avg Loss: 0.09576692673241875, Total Guessed Correct in Training Data: 58547 / 60000\n",
      "Epoch: 6 , Batch No: 300, Loss of This Batch: 0.0009615605813451111\n",
      "Epoch: 6 , Batch No: 600, Loss of This Batch: 0.08648008108139038\n",
      "Epoch: 6 , Avg Loss: 0.09846869286974348, Total Guessed Correct in Training Data: 58549 / 60000\n",
      "Epoch: 7 , Batch No: 300, Loss of This Batch: 0.12781450152397156\n",
      "Epoch: 7 , Batch No: 600, Loss of This Batch: 0.13566197454929352\n",
      "Epoch: 7 , Avg Loss: 0.08902559664119811, Total Guessed Correct in Training Data: 58704 / 60000\n",
      "Epoch: 8 , Batch No: 300, Loss of This Batch: 0.1808127909898758\n",
      "Epoch: 8 , Batch No: 600, Loss of This Batch: 0.12467064708471298\n",
      "Epoch: 8 , Avg Loss: 0.09256882634256423, Total Guessed Correct in Training Data: 58679 / 60000\n",
      "Epoch: 9 , Batch No: 300, Loss of This Batch: 0.11013910174369812\n",
      "Epoch: 9 , Batch No: 600, Loss of This Batch: 0.06683841347694397\n",
      "Epoch: 9 , Avg Loss: 0.09265969672143304, Total Guessed Correct in Training Data: 58705 / 60000\n",
      "Epoch: 10 , Batch No: 300, Loss of This Batch: 0.03955323249101639\n",
      "Epoch: 10 , Batch No: 600, Loss of This Batch: 0.13541021943092346\n",
      "Epoch: 10 , Avg Loss: 0.08427687371857852, Total Guessed Correct in Training Data: 58820 / 60000\n",
      "Training took time in Minutes:  4.984186236063639\n"
     ]
    }
   ],
   "source": [
    "import time\n",
    "startTime = time.time()\n",
    "\n",
    "epochs = 10\n",
    "trainLosses = []\n",
    "trainingCorrect = []\n",
    "\n",
    "for epoch in range(epochs):\n",
    "    trainingEpochCorrect = 0\n",
    "    epoch_loss = 0.0\n",
    "    \n",
    "    for batchNumber,(XTrain,yTrain) in enumerate (trainLoader):\n",
    "        batchNumber+=1\n",
    "        yPred = model(XTrain)\n",
    "        loss = criterion(yPred,yTrain)\n",
    "        predictedValues = torch.max(yPred.data,1)[1]\n",
    "        \n",
    "        #How many correct we got from this batch \n",
    "        batchCorrect = (predictedValues==yTrain).sum()\n",
    "        trainingEpochCorrect += batchCorrect\n",
    "        \n",
    "        #Accumulate Batch Loss To Compute Epoch loss\n",
    "        epoch_loss +=loss.item()\n",
    "        \n",
    "        #Update Parameters\n",
    "        optimizer.zero_grad()\n",
    "        loss.backward()\n",
    "        optimizer.step()\n",
    "        \n",
    "        #Print Results\n",
    "        if batchNumber%300 == 0:\n",
    "            print(f'Epoch: {epoch+1} , Batch No: {batchNumber}, Loss of This Batch: {loss.item()}')\n",
    "    \n",
    "    #To get Average of this epoch all losses of batches summed and divided by total batches. \n",
    "    epoch_loss = epoch_loss / len(trainLoader)\n",
    "    \n",
    "    #Epoch Stats\n",
    "    trainLosses.append(epoch_loss)\n",
    "    trainingCorrect.append(trainingEpochCorrect)\n",
    "    print(f'Epoch: {epoch+1} , Avg Loss: {epoch_loss}, Total Guessed Correct in Training Data: {trainingEpochCorrect} / {len(trainData)}')\n",
    "\n",
    "\n",
    "\n",
    "currentTime = time.time()\n",
    "totalTimeConsumned = (currentTime - startTime)/60\n",
    "print(f'Training took time in Minutes:  {totalTimeConsumned}')"
   ]
  },
  {
   "cell_type": "code",
   "execution_count": null,
   "id": "b9b53782",
   "metadata": {},
   "outputs": [],
   "source": []
  },
  {
   "cell_type": "markdown",
   "id": "5572c551",
   "metadata": {},
   "source": [
    "#### Test The Model"
   ]
  },
  {
   "cell_type": "code",
   "execution_count": 14,
   "id": "2ba564a6",
   "metadata": {},
   "outputs": [
    {
     "name": "stderr",
     "output_type": "stream",
     "text": [
      "C:\\Users\\Lenovo\\AppData\\Local\\Temp\\ipykernel_13464\\2284576426.py:43: UserWarning: Implicit dimension choice for log_softmax has been deprecated. Change the call to include dim=X as an argument.\n",
      "  return F.log_softmax(x)\n"
     ]
    },
    {
     "name": "stdout",
     "output_type": "stream",
     "text": [
      "Avg Loss: 0.11145561344455927, Total Guessed Correct in Testing Data: 9759 / 10000\n"
     ]
    }
   ],
   "source": [
    "totalTestCorrect = 0\n",
    "testLoss = 0\n",
    "totalYPred = []\n",
    "\n",
    "with torch.no_grad():\n",
    "    \n",
    "    for batch,(Xtest,yTest) in enumerate (testLoader):\n",
    "        yPred = model(Xtest)\n",
    "        loss = criterion(yPred,yTest)\n",
    "        predictedValues = torch.max(yPred.data,1)[1]\n",
    "        totalYPred = totalYPred + predictedValues.tolist()\n",
    "        \n",
    "        batchCorrect = (predictedValues==yTest).sum()\n",
    "        totalTestCorrect += batchCorrect\n",
    "        \n",
    "        testLoss +=loss.item()\n",
    "        \n",
    "    testLoss = testLoss / len(testLoader)\n",
    "    print(f'Avg Loss: {testLoss}, Total Guessed Correct in Testing Data: {totalTestCorrect} / {len(testData)}')\n",
    "\n",
    "        \n",
    "        "
   ]
  },
  {
   "cell_type": "code",
   "execution_count": null,
   "id": "f61cd1cc",
   "metadata": {},
   "outputs": [],
   "source": []
  },
  {
   "cell_type": "markdown",
   "id": "74ff262f",
   "metadata": {},
   "source": [
    "#### Looking At Stats"
   ]
  },
  {
   "cell_type": "code",
   "execution_count": 15,
   "id": "33bbfda7",
   "metadata": {},
   "outputs": [
    {
     "data": {
      "text/plain": [
       "Text(0.5, 1.0, 'Training Loss at Each Epoch')"
      ]
     },
     "execution_count": 15,
     "metadata": {},
     "output_type": "execute_result"
    },
    {
     "data": {
      "image/png": "[encoded data removed]",
      "text/plain": [
       "<Figure size 640x480 with 1 Axes>"
      ]
     },
     "metadata": {},
     "output_type": "display_data"
    }
   ],
   "source": [
    "plt.plot(trainLosses)\n",
    "plt.title(\"Training Loss at Each Epoch\")"
   ]
  },
  {
   "cell_type": "code",
   "execution_count": 16,
   "id": "4ec1dfdf",
   "metadata": {},
   "outputs": [
    {
     "data": {
      "text/plain": [
       "Text(0.5, 1.0, 'Training Accuracy at Each Epoch')"
      ]
     },
     "execution_count": 16,
     "metadata": {},
     "output_type": "execute_result"
    },
    {
     "data": {
      "image/png": "[encoded data removed]",
      "text/plain": [
       "<Figure size 640x480 with 1 Axes>"
      ]
     },
     "metadata": {},
     "output_type": "display_data"
    }
   ],
   "source": [
    "trainingAccuracy = [(correct / len(trainData))*100 for correct in trainingCorrect]\n",
    "\n",
    "plt.plot(trainingAccuracy)\n",
    "plt.title(\"Training Accuracy at Each Epoch\")"
   ]
  },
  {
   "cell_type": "code",
   "execution_count": 17,
   "id": "5e88e099",
   "metadata": {},
   "outputs": [
    {
     "data": {
      "text/plain": [
       "array([[ 972,    1,    3,    0,    0,    0,    1,    1,    1,    1],\n",
       "       [   0, 1118,    2,    2,    3,    0,    2,    2,    6,    0],\n",
       "       [   0,    0, 1013,   11,    1,    0,    0,    2,    5,    0],\n",
       "       [   0,    0,    6,  991,    1,    8,    0,    1,    2,    1],\n",
       "       [   0,    0,    1,    0,  967,    0,    0,    0,    3,   11],\n",
       "       [   1,    0,    0,    6,    0,  881,    1,    0,    3,    0],\n",
       "       [   6,    2,    1,    0,    4,   11,  927,    0,    7,    0],\n",
       "       [   1,    1,   24,    4,    2,    1,    0,  977,    5,   13],\n",
       "       [   3,    2,    5,    7,    1,   11,    0,    0,  933,   12],\n",
       "       [   1,    0,    0,    3,    9,    9,    0,    3,    4,  980]],\n",
       "      dtype=int64)"
      ]
     },
     "execution_count": 17,
     "metadata": {},
     "output_type": "execute_result"
    }
   ],
   "source": [
    "yTest = testData.targets\n",
    "\n",
    "confusion_matrix(yTest,totalYPred)"
   ]
  },
  {
   "cell_type": "code",
   "execution_count": 18,
   "id": "48e795ad",
   "metadata": {},
   "outputs": [
    {
     "name": "stdout",
     "output_type": "stream",
     "text": [
      "              precision    recall  f1-score   support\n",
      "\n",
      "           0       0.99      0.99      0.99       980\n",
      "           1       0.99      0.99      0.99      1135\n",
      "           2       0.96      0.98      0.97      1032\n",
      "           3       0.97      0.98      0.97      1010\n",
      "           4       0.98      0.98      0.98       982\n",
      "           5       0.96      0.99      0.97       892\n",
      "           6       1.00      0.97      0.98       958\n",
      "           7       0.99      0.95      0.97      1028\n",
      "           8       0.96      0.96      0.96       974\n",
      "           9       0.96      0.97      0.97      1009\n",
      "\n",
      "    accuracy                           0.98     10000\n",
      "   macro avg       0.98      0.98      0.98     10000\n",
      "weighted avg       0.98      0.98      0.98     10000\n",
      "\n"
     ]
    }
   ],
   "source": [
    "print(classification_report(yTest,totalYPred))"
   ]
  },
  {
   "cell_type": "code",
   "execution_count": null,
   "id": "8c1dfff6",
   "metadata": {},
   "outputs": [],
   "source": []
  },
  {
   "cell_type": "markdown",
   "id": "a1ea224e",
   "metadata": {},
   "source": [
    "##### Testing Model For New Single Image"
   ]
  },
  {
   "cell_type": "code",
   "execution_count": 20,
   "id": "61671013",
   "metadata": {},
   "outputs": [],
   "source": [
    "newImage = testData[1978][0]"
   ]
  },
  {
   "cell_type": "code",
   "execution_count": 21,
   "id": "ae6c4060",
   "metadata": {},
   "outputs": [
    {
     "data": {
      "text/plain": [
       "torch.Size([1, 28, 28])"
      ]
     },
     "execution_count": 21,
     "metadata": {},
     "output_type": "execute_result"
    }
   ],
   "source": [
    "newImage.shape"
   ]
  },
  {
   "cell_type": "code",
   "execution_count": 25,
   "id": "433ef8db",
   "metadata": {},
   "outputs": [
    {
     "data": {
      "text/plain": [
       "<matplotlib.image.AxesImage at 0x20a578b0cd0>"
      ]
     },
     "execution_count": 25,
     "metadata": {},
     "output_type": "execute_result"
    },
    {
     "data": {
      "image/png": "[encoded data removed]",
      "text/plain": [
       "<Figure size 640x480 with 1 Axes>"
      ]
     },
     "metadata": {},
     "output_type": "display_data"
    }
   ],
   "source": [
    "plt.imshow(newImage.reshape(28,28))"
   ]
  },
  {
   "cell_type": "code",
   "execution_count": 31,
   "id": "dc968622",
   "metadata": {},
   "outputs": [
    {
     "name": "stdout",
     "output_type": "stream",
     "text": [
      "The image belongs to class  4\n"
     ]
    },
    {
     "name": "stderr",
     "output_type": "stream",
     "text": [
      "C:\\Users\\Lenovo\\AppData\\Local\\Temp\\ipykernel_13464\\2284576426.py:43: UserWarning: Implicit dimension choice for log_softmax has been deprecated. Change the call to include dim=X as an argument.\n",
      "  return F.log_softmax(x)\n"
     ]
    }
   ],
   "source": [
    "with torch.no_grad():\n",
    "    yPred = model(newImage.reshape(1,1,28,28)) #Batch Size of 1, Color Channel 1, Size 28 * 28\n",
    "    predictedValue = yPred.argmax()\n",
    "    \n",
    "    print(\"The image belongs to class \",predictedValue.item())"
   ]
  },
  {
   "cell_type": "code",
   "execution_count": null,
   "id": "f54a6215",
   "metadata": {},
   "outputs": [],
   "source": []
  },
  {
   "cell_type": "code",
   "execution_count": null,
   "id": "40622ee7",
   "metadata": {},
   "outputs": [],
   "source": []
  },
  {
   "cell_type": "code",
   "execution_count": null,
   "id": "86e2b592",
   "metadata": {},
   "outputs": [],
   "source": []
  }
 ],
 "metadata": {
  "kernelspec": {
   "display_name": "Python 3 (ipykernel)",
   "language": "python",
   "name": "python3"
  },
  "language_info": {
   "codemirror_mode": {
    "name": "ipython",
    "version": 3
   },
   "file_extension": ".py",
   "mimetype": "text/x-python",
   "name": "python",
   "nbconvert_exporter": "python",
   "pygments_lexer": "ipython3",
   "version": "3.10.12"
  }
 },
 "nbformat": 4,
 "nbformat_minor": 5
}
