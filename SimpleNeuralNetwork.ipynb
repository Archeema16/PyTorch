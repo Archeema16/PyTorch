{
 "cells": [
  {
   "cell_type": "markdown",
   "id": "eeed4cbc",
   "metadata": {},
   "source": [
    "list then numpy arrays then tensors so they are similar <br>\n",
    "Tensor is a multi-dimesnional matrix containing elments of single data type.\n",
    "Defualt data type of them is float32"
   ]
  },
  {
   "cell_type": "code",
   "execution_count": 1,
   "id": "a0252d63",
   "metadata": {},
   "outputs": [],
   "source": [
    "import torch \n",
    "import numpy as np"
   ]
  },
  {
   "cell_type": "code",
   "execution_count": 3,
   "id": "bb0347cf",
   "metadata": {},
   "outputs": [
    {
     "name": "stdout",
     "output_type": "stream",
     "text": [
      "[1, 2, 3, 4, 5]\n",
      "[[1, 2, 3, 4, 5], [6, 7, 8, 9, 10]]\n"
     ]
    }
   ],
   "source": [
    "#List\n",
    "myList = [1,2,3,4,5]\n",
    "print(myList)\n",
    "myListMultiDimesnional = [[1,2,3,4,5],[6,7,8,9,10]]\n",
    "print(myListMultiDimesnional)"
   ]
  },
  {
   "cell_type": "code",
   "execution_count": 5,
   "id": "d307bd75",
   "metadata": {},
   "outputs": [
    {
     "name": "stdout",
     "output_type": "stream",
     "text": [
      "[[0.19570932 0.33276843 0.39822868 0.73884307]\n",
      " [0.29003019 0.95266184 0.53213065 0.02093816]\n",
      " [0.93716338 0.64835547 0.88048725 0.27574097]]\n",
      "float64\n"
     ]
    }
   ],
   "source": [
    "#NumpyArrays\n",
    "\n",
    "np1 = np.random.rand(3,4)\n",
    "print(np1)\n",
    "print(np1.dtype)"
   ]
  },
  {
   "cell_type": "code",
   "execution_count": 21,
   "id": "2e619eb9",
   "metadata": {},
   "outputs": [
    {
     "name": "stdout",
     "output_type": "stream",
     "text": [
      "tensor([[ 0.4384,  0.1136,  0.0681, -0.9303],\n",
      "        [-0.6451,  0.6323,  0.6631, -0.5323],\n",
      "        [ 1.4850,  1.4204, -0.3791, -0.7213]])\n",
      "torch.float32\n",
      "tensor([[[0., 0., 0., 0.],\n",
      "         [0., 0., 0., 0.],\n",
      "         [0., 0., 0., 0.]],\n",
      "\n",
      "        [[0., 0., 0., 0.],\n",
      "         [0., 0., 0., 0.],\n",
      "         [0., 0., 0., 0.]]])\n",
      "tensor([[7., 7.],\n",
      "        [7., 7.]], dtype=torch.float64)\n",
      "tensor(1.4850)\n"
     ]
    }
   ],
   "source": [
    "#Tensors\n",
    "tensor_2d = torch.randn(3,4)\n",
    "print(tensor_2d)\n",
    "print(tensor_2d.dtype)\n",
    "tensor_3d = torch.zeros(2,3,4)\n",
    "print(tensor_3d)\n",
    "tensorNew = tensor.new_full((2,2),7)\n",
    "print(tensorNew)"
   ]
  },
  {
   "cell_type": "code",
   "execution_count": 10,
   "id": "38fc7edc",
   "metadata": {},
   "outputs": [
    {
     "name": "stdout",
     "output_type": "stream",
     "text": [
      "tensor([[0.1957, 0.3328, 0.3982, 0.7388],\n",
      "        [0.2900, 0.9527, 0.5321, 0.0209],\n",
      "        [0.9372, 0.6484, 0.8805, 0.2757]], dtype=torch.float64)\n",
      "tensor([[ 1,  2,  3,  4,  5],\n",
      "        [ 6,  7,  8,  9, 10]])\n"
     ]
    }
   ],
   "source": [
    "#Create Tensor form Numopy Array\n",
    "tensorFromNumpy = torch.tensor(np1)\n",
    "print(tensor)\n",
    "tensorFromList = torch.tensor(myListMultiDimesnional)\n",
    "print(tensorFromList)"
   ]
  },
  {
   "cell_type": "code",
   "execution_count": 37,
   "id": "e56ee25a",
   "metadata": {},
   "outputs": [
    {
     "name": "stdout",
     "output_type": "stream",
     "text": [
      "tensor(90)\n",
      "tensor(90)\n",
      "90\n",
      "tensor(90)\n",
      "tensor(1)\n",
      "tensor(0)\n",
      "tensor(1)\n",
      "\n",
      " tensor([[ 1, 90,  3,  4,  5],\n",
      "        [ 6,  7,  8,  9, 10]])\n"
     ]
    },
    {
     "data": {
      "text/plain": [
       "tensor([90,  7])"
      ]
     },
     "execution_count": 37,
     "metadata": {},
     "output_type": "execute_result"
    }
   ],
   "source": [
    "#Manipulation of Tensor just like List\n",
    "print(tensorFromList[0][1])\n",
    "tensorFromList[0][1] =90\n",
    "print(tensorFromList[0][1])\n",
    "print(tensorFromList[0][1].item()) #Tp print just the value not the tensor word\n",
    "print(tensorFromList.amax()) #Print Maximum value\n",
    "print(tensorFromList.amin()) #Print Minimum value\n",
    "print(tensorFromList.argmin()) #Print Minimum value Index\n",
    "print(tensorFromList.argmax()) #Print Maximum value Index\n",
    "print(\"\\n\",tensorFromList)\n",
    "tensorFromList[:,1] #Slicing"
   ]
  },
  {
   "cell_type": "code",
   "execution_count": 34,
   "id": "0979ede2",
   "metadata": {},
   "outputs": [
    {
     "name": "stdout",
     "output_type": "stream",
     "text": [
      "tensor([0, 1, 2, 3, 4, 5, 6, 7, 8, 9])\n",
      "tensor([[0, 1, 2, 3, 4],\n",
      "        [5, 6, 7, 8, 9]])\n",
      "tensor([[0, 1],\n",
      "        [2, 3],\n",
      "        [4, 5],\n",
      "        [6, 7],\n",
      "        [8, 9]])\n",
      "tensor([[0, 1],\n",
      "        [2, 3],\n",
      "        [4, 5],\n",
      "        [6, 7],\n",
      "        [8, 9]])\n",
      "\n",
      "tensor([[ 0,  1],\n",
      "        [ 2, 22],\n",
      "        [ 4,  5],\n",
      "        [ 6,  7],\n",
      "        [ 8,  9]])\n",
      "tensor([[ 0,  1],\n",
      "        [ 2, 22],\n",
      "        [ 4,  5],\n",
      "        [ 6,  7],\n",
      "        [ 8,  9]])\n"
     ]
    }
   ],
   "source": [
    "#Reshape and Shallow Copy\n",
    "myTensor = torch.arange(10)\n",
    "print(myTensor)\n",
    "myTensor = myTensor.reshape(2,5)\n",
    "print(myTensor)\n",
    "myTensor = myTensor.reshape(5,-1) #Telling I need 5 rows, adjust column accordingly\n",
    "print(myTensor)\n",
    "\n",
    "myTensor2 = myTensor #Shallow Copy\n",
    "print(myTensor2)\n",
    "myTensor[1][1]=22\n",
    "print()\n",
    "print(myTensor)\n",
    "print(myTensor2)\n"
   ]
  },
  {
   "cell_type": "code",
   "execution_count": 51,
   "id": "5098105b",
   "metadata": {},
   "outputs": [
    {
     "name": "stdout",
     "output_type": "stream",
     "text": [
      "tensor([4, 4, 4])\n",
      "tensor([-2,  0,  2])\n",
      "tensor([3, 4, 3])\n",
      "tensor([0.3333, 1.0000, 3.0000])\n",
      "tensor([0, 1, 3])\n",
      "tensor([1, 0, 0])\n",
      "tensor([  1,  32, 243])\n",
      "tensor([4, 4, 4])\n",
      "tensor([3, 2, 1])\n"
     ]
    }
   ],
   "source": [
    "#Math Operations\n",
    "tensorA = torch.tensor([1,2,3])\n",
    "tensorB = torch.tensor([3,2,1])\n",
    "\n",
    "#Element wise\n",
    "print(tensorA + tensorB)\n",
    "print(tensorA - tensorB)\n",
    "print(tensorA * tensorB)\n",
    "print(tensorA / tensorB)\n",
    "print(tensorA // tensorB) #Integer Division\n",
    "print(tensorA % tensorB) #Remainder\n",
    "print(torch.pow(tensorA,5))\n",
    "tensorA+=tensorB\n",
    "print(tensorA)\n",
    "print(tensorB)\n"
   ]
  },
  {
   "cell_type": "code",
   "execution_count": 35,
   "id": "4b3fd559",
   "metadata": {},
   "outputs": [],
   "source": [
    "#SimpleNeuralNetwork\n",
    "import torch.nn as nn\n",
    "import torch.nn.functional as F\n",
    "\n",
    "\n",
    "#Create a Model Class that inherits nn.Module\n",
    "\n",
    "class MySimpleNN (nn.Module):\n",
    "    \n",
    "    #Inpur Layer (4 features) ----> Hidden Layer 1 ----> Hidden Layer 2----> Output Layer (3 features as 3 classes)  \n",
    "    \n",
    "    def __init__(self,inputFeatures=4,H1=8,H2=16,OutFeatures=3):\n",
    "        super().__init__() #Instantiate nn.Module\n",
    "        self.FC1 = nn.Linear(inputFeatures,H1) #1st Hidden Layer\n",
    "        self.FC2 = nn.Linear(H1,H2) #2nd Hidden Layer\n",
    "        self.out = nn.Linear(H2,OutFeatures) #Output Layer\n",
    "    \n",
    "    def forward(self,x):\n",
    "        x =  F.relu(self.FC1(x)) #Activation Function of first Layer\n",
    "        x = F.relu(self.FC2(x)) #Activation Function of first Layer\n",
    "        x = self.out(x)\n",
    "        \n",
    "        return x"
   ]
  },
  {
   "cell_type": "code",
   "execution_count": 4,
   "id": "2d2dba95",
   "metadata": {},
   "outputs": [],
   "source": [
    "torch.manual_seed(41)\n",
    "model = MySimpleNN()"
   ]
  },
  {
   "cell_type": "code",
   "execution_count": 5,
   "id": "d1c3ef0c",
   "metadata": {},
   "outputs": [],
   "source": [
    "import pandas as pd\n",
    "import matplotlib.pyplot as plt"
   ]
  },
  {
   "cell_type": "code",
   "execution_count": 10,
   "id": "26030a9e",
   "metadata": {},
   "outputs": [],
   "source": [
    "url = 'https://gist.githubusercontent.com/netj/8836201/raw/6f9306ad21398ea43cba4f7d537619d0e07d5ae3/iris.csv'\n",
    "irisDataframe = pd.read_csv(url)\n"
   ]
  },
  {
   "cell_type": "code",
   "execution_count": 11,
   "id": "82651bc8",
   "metadata": {},
   "outputs": [
    {
     "data": {
      "text/html": [
       "<div>\n",
       "<style scoped>\n",
       "    .dataframe tbody tr th:only-of-type {\n",
       "        vertical-align: middle;\n",
       "    }\n",
       "\n",
       "    .dataframe tbody tr th {\n",
       "        vertical-align: top;\n",
       "    }\n",
       "\n",
       "    .dataframe thead th {\n",
       "        text-align: right;\n",
       "    }\n",
       "</style>\n",
       "<table border=\"1\" class=\"dataframe\">\n",
       "  <thead>\n",
       "    <tr style=\"text-align: right;\">\n",
       "      <th></th>\n",
       "      <th>sepal.length</th>\n",
       "      <th>sepal.width</th>\n",
       "      <th>petal.length</th>\n",
       "      <th>petal.width</th>\n",
       "      <th>variety</th>\n",
       "    </tr>\n",
       "  </thead>\n",
       "  <tbody>\n",
       "    <tr>\n",
       "      <th>0</th>\n",
       "      <td>5.1</td>\n",
       "      <td>3.5</td>\n",
       "      <td>1.4</td>\n",
       "      <td>0.2</td>\n",
       "      <td>Setosa</td>\n",
       "    </tr>\n",
       "    <tr>\n",
       "      <th>1</th>\n",
       "      <td>4.9</td>\n",
       "      <td>3.0</td>\n",
       "      <td>1.4</td>\n",
       "      <td>0.2</td>\n",
       "      <td>Setosa</td>\n",
       "    </tr>\n",
       "    <tr>\n",
       "      <th>2</th>\n",
       "      <td>4.7</td>\n",
       "      <td>3.2</td>\n",
       "      <td>1.3</td>\n",
       "      <td>0.2</td>\n",
       "      <td>Setosa</td>\n",
       "    </tr>\n",
       "    <tr>\n",
       "      <th>3</th>\n",
       "      <td>4.6</td>\n",
       "      <td>3.1</td>\n",
       "      <td>1.5</td>\n",
       "      <td>0.2</td>\n",
       "      <td>Setosa</td>\n",
       "    </tr>\n",
       "    <tr>\n",
       "      <th>4</th>\n",
       "      <td>5.0</td>\n",
       "      <td>3.6</td>\n",
       "      <td>1.4</td>\n",
       "      <td>0.2</td>\n",
       "      <td>Setosa</td>\n",
       "    </tr>\n",
       "    <tr>\n",
       "      <th>...</th>\n",
       "      <td>...</td>\n",
       "      <td>...</td>\n",
       "      <td>...</td>\n",
       "      <td>...</td>\n",
       "      <td>...</td>\n",
       "    </tr>\n",
       "    <tr>\n",
       "      <th>145</th>\n",
       "      <td>6.7</td>\n",
       "      <td>3.0</td>\n",
       "      <td>5.2</td>\n",
       "      <td>2.3</td>\n",
       "      <td>Virginica</td>\n",
       "    </tr>\n",
       "    <tr>\n",
       "      <th>146</th>\n",
       "      <td>6.3</td>\n",
       "      <td>2.5</td>\n",
       "      <td>5.0</td>\n",
       "      <td>1.9</td>\n",
       "      <td>Virginica</td>\n",
       "    </tr>\n",
       "    <tr>\n",
       "      <th>147</th>\n",
       "      <td>6.5</td>\n",
       "      <td>3.0</td>\n",
       "      <td>5.2</td>\n",
       "      <td>2.0</td>\n",
       "      <td>Virginica</td>\n",
       "    </tr>\n",
       "    <tr>\n",
       "      <th>148</th>\n",
       "      <td>6.2</td>\n",
       "      <td>3.4</td>\n",
       "      <td>5.4</td>\n",
       "      <td>2.3</td>\n",
       "      <td>Virginica</td>\n",
       "    </tr>\n",
       "    <tr>\n",
       "      <th>149</th>\n",
       "      <td>5.9</td>\n",
       "      <td>3.0</td>\n",
       "      <td>5.1</td>\n",
       "      <td>1.8</td>\n",
       "      <td>Virginica</td>\n",
       "    </tr>\n",
       "  </tbody>\n",
       "</table>\n",
       "<p>150 rows × 5 columns</p>\n",
       "</div>"
      ],
      "text/plain": [
       "     sepal.length  sepal.width  petal.length  petal.width    variety\n",
       "0             5.1          3.5           1.4          0.2     Setosa\n",
       "1             4.9          3.0           1.4          0.2     Setosa\n",
       "2             4.7          3.2           1.3          0.2     Setosa\n",
       "3             4.6          3.1           1.5          0.2     Setosa\n",
       "4             5.0          3.6           1.4          0.2     Setosa\n",
       "..            ...          ...           ...          ...        ...\n",
       "145           6.7          3.0           5.2          2.3  Virginica\n",
       "146           6.3          2.5           5.0          1.9  Virginica\n",
       "147           6.5          3.0           5.2          2.0  Virginica\n",
       "148           6.2          3.4           5.4          2.3  Virginica\n",
       "149           5.9          3.0           5.1          1.8  Virginica\n",
       "\n",
       "[150 rows x 5 columns]"
      ]
     },
     "execution_count": 11,
     "metadata": {},
     "output_type": "execute_result"
    }
   ],
   "source": [
    "irisDataframe"
   ]
  },
  {
   "cell_type": "code",
   "execution_count": 18,
   "id": "2206affc",
   "metadata": {},
   "outputs": [
    {
     "name": "stdout",
     "output_type": "stream",
     "text": [
      "['Setosa' 'Versicolor' 'Virginica']\n"
     ]
    },
    {
     "data": {
      "text/plain": [
       "Setosa        50\n",
       "Versicolor    50\n",
       "Virginica     50\n",
       "Name: variety, dtype: int64"
      ]
     },
     "execution_count": 18,
     "metadata": {},
     "output_type": "execute_result"
    }
   ],
   "source": [
    "print(irisDataframe[\"variety\"].unique())\n",
    "irisDataframe[\"variety\"].value_counts()\n"
   ]
  },
  {
   "cell_type": "code",
   "execution_count": 22,
   "id": "f21fc180",
   "metadata": {},
   "outputs": [],
   "source": [
    "X = irisDataframe.drop([\"variety\"],axis=1).values\n",
    "Y = irisDataframe[\"variety\"].values"
   ]
  },
  {
   "cell_type": "code",
   "execution_count": 27,
   "id": "6ba11cf3",
   "metadata": {},
   "outputs": [
    {
     "name": "stdout",
     "output_type": "stream",
     "text": [
      "(150, 4) (150,)\n"
     ]
    }
   ],
   "source": [
    "print(X.shape,Y.shape)"
   ]
  },
  {
   "cell_type": "code",
   "execution_count": 26,
   "id": "dea6f5e4",
   "metadata": {},
   "outputs": [
    {
     "name": "stderr",
     "output_type": "stream",
     "text": [
      "C:\\Users\\Lenovo\\anaconda3\\envs\\dataml100\\lib\\site-packages\\scipy\\__init__.py:146: UserWarning: A NumPy version >=1.16.5 and <1.23.0 is required for this version of SciPy (detected version 1.23.2\n",
      "  warnings.warn(f\"A NumPy version >={np_minversion} and <{np_maxversion}\"\n"
     ]
    }
   ],
   "source": [
    "from sklearn.model_selection import train_test_split #As Pytorch doesnt have random split built-in function\n",
    "X_train, X_test, y_train, y_test = train_test_split(X, Y, test_size=0.30, random_state=41)\n"
   ]
  },
  {
   "cell_type": "code",
   "execution_count": 54,
   "id": "5d293b7b",
   "metadata": {},
   "outputs": [],
   "source": [
    "#As this numpy array PyTorch wont take it, convert it to Tensor of Pytorch\n",
    "X_train = torch.FloatTensor(X_train)\n",
    "X_test = torch.FloatTensor(X_test)\n",
    "\n",
    "''' We can't use One hot encoder , it is the best choice as there is no ranking between outputs but crossentropyloss\n",
    "in pytorch doesnt take that, so we use simple label encoder\n",
    "\n",
    "from sklearn.preprocessing import OneHotEncoder\n",
    "pre_y_train = np.array(y_train).reshape(-1, 1)\n",
    "encoder = OneHotEncoder(sparse=False)\n",
    "encoded_y_train = encoder.fit_transform(pre_y_train)\n",
    "pre_y_test = np.array(y_test).reshape(-1, 1)\n",
    "encoded_y_test = encoder.transform(pre_y_test)\n",
    "print(encoded_y_train,\"\\n\\n\",encoded_y_test)\n",
    "'''\n",
    "from sklearn.preprocessing import LabelEncoder\n",
    "output_label_encoder = LabelEncoder()\n",
    "y_train = output_label_encoder.fit_transform(y_train)\n",
    "y_test = output_label_encoder.transform(y_test)\n",
    "\n",
    "y_train = torch.LongTensor(y_train)\n",
    "y_test = torch.LongTensor(y_test)"
   ]
  },
  {
   "cell_type": "code",
   "execution_count": 31,
   "id": "6928cb61",
   "metadata": {},
   "outputs": [],
   "source": [
    "#Set Criteria to measure the Error\n",
    "criterion = nn.CrossEntropyLoss()\n",
    "# Choose Optimizer and Learning Rate\n",
    "optimizer = torch.optim.Adam(model.parameters(),lr=0.01)"
   ]
  },
  {
   "cell_type": "code",
   "execution_count": 33,
   "id": "0fc6fc29",
   "metadata": {},
   "outputs": [
    {
     "data": {
      "text/plain": [
       "<bound method Module.parameters of MySimpleNN(\n",
       "  (FC1): Linear(in_features=4, out_features=8, bias=True)\n",
       "  (FC2): Linear(in_features=8, out_features=16, bias=True)\n",
       "  (out): Linear(in_features=16, out_features=3, bias=True)\n",
       ")>"
      ]
     },
     "execution_count": 33,
     "metadata": {},
     "output_type": "execute_result"
    }
   ],
   "source": [
    "model.parameters"
   ]
  },
  {
   "cell_type": "markdown",
   "id": "cddb704e",
   "metadata": {},
   "source": [
    "## Train Model"
   ]
  },
  {
   "cell_type": "code",
   "execution_count": 61,
   "id": "ac96ce4a",
   "metadata": {},
   "outputs": [
    {
     "name": "stdout",
     "output_type": "stream",
     "text": [
      "Epich: 0 and loss :0.001454610493965447\n",
      "Epich: 10 and loss :0.0013603976694867015\n",
      "Epich: 20 and loss :0.0012743633706122637\n",
      "Epich: 30 and loss :0.0011956423986703157\n",
      "Epich: 40 and loss :0.0011234716512262821\n",
      "Epich: 50 and loss :0.0010572012979537249\n",
      "Epich: 60 and loss :0.0009962328476831317\n",
      "Epich: 70 and loss :0.0009400613489560783\n",
      "Epich: 80 and loss :0.0008882341207936406\n",
      "Epich: 90 and loss :0.0008403113461099565\n",
      "Epich: 100 and loss :0.0007959598442539573\n",
      "Epich: 110 and loss :0.0007548260618932545\n",
      "Epich: 120 and loss :0.0007166391587816179\n",
      "Epich: 130 and loss :0.000681722944136709\n",
      "Epich: 140 and loss :0.0006484252517111599\n",
      "Epich: 150 and loss :0.0006176317110657692\n",
      "Epich: 160 and loss :0.0005888607702217996\n",
      "Epich: 170 and loss :0.0005619461880996823\n",
      "Epich: 180 and loss :0.0005367548437789083\n",
      "Epich: 190 and loss :0.0005131493671797216\n",
      "Epich: 200 and loss :0.0004910003626719117\n"
     ]
    },
    {
     "data": {
      "text/plain": [
       "Text(0, 0.5, 'Error')"
      ]
     },
     "execution_count": 61,
     "metadata": {},
     "output_type": "execute_result"
    },
    {
     "data": {
      "image/png": "[encoded data removed]",
      "text/plain": [
       "<Figure size 640x480 with 1 Axes>"
      ]
     },
     "metadata": {},
     "output_type": "display_data"
    }
   ],
   "source": [
    "\n",
    "#First Determine Epochs\n",
    "\n",
    "epochs = 201\n",
    "losses = []\n",
    "for i in range (epochs):\n",
    "    #Go Forward a get a prediction\n",
    "    y_pred = model.forward(X_train)\n",
    "    #Measure the loss/error\n",
    "    loss = criterion(y_pred,y_train)\n",
    "    \n",
    "    #Keep Track of Losses\n",
    "    losses.append(loss.item())\n",
    "    \n",
    "    #Print ebery 10 epochs\n",
    "    if i % 10==0:\n",
    "       print(f\"Epich: {i} and loss :{loss}\") \n",
    "    \n",
    "    #Do BackPropagation\n",
    "    optimizer.zero_grad() #Resets the gradients \n",
    "    loss.backward() \n",
    "    optimizer.step() #Update the weights\n",
    "    \n",
    "    \n",
    "\n",
    "plt.scatter(range(epochs),y=losses)\n",
    "plt.xlabel(\"Epochs\")\n",
    "plt.ylabel(\"Error\")"
   ]
  },
  {
   "cell_type": "markdown",
   "id": "83c3c7be",
   "metadata": {},
   "source": [
    "## Evaluate Test Data"
   ]
  },
  {
   "cell_type": "code",
   "execution_count": 104,
   "id": "343a75f7",
   "metadata": {},
   "outputs": [
    {
     "name": "stdout",
     "output_type": "stream",
     "text": [
      "0.368821918964386\n"
     ]
    }
   ],
   "source": [
    "with torch.no_grad(): #Turn Off Back Propagation by disabling gradient calculation.\n",
    "    y_eval = model.forward(X_test) #As test set is small so we give it once instead of batches same for training set\n",
    "    loss = criterion(y_eval,y_test) \n",
    "    \n",
    "    print(loss.item())"
   ]
  },
  {
   "cell_type": "code",
   "execution_count": 99,
   "id": "9377a6dd",
   "metadata": {},
   "outputs": [
    {
     "name": "stdout",
     "output_type": "stream",
     "text": [
      "Model Prediction tensor([-6.9974,  1.2256,  9.0280])  , Original 2 , True\n",
      "Model Prediction tensor([-12.7871,  -7.8338,  23.7496])  , Original 2 , True\n",
      "Model Prediction tensor([-13.4140,  -6.7662,  24.0348])  , Original 2 , True\n",
      "Model Prediction tensor([-1.2847, 10.3425, -6.0164])  , Original 1 , True\n",
      "Model Prediction tensor([-11.1720,  -4.1564,  19.0196])  , Original 2 , True\n",
      "Model Prediction tensor([  1.4311,  12.7110, -12.7414])  , Original 1 , True\n",
      "Model Prediction tensor([-7.0380,  1.8504,  8.6829])  , Original 2 , True\n",
      "Model Prediction tensor([-1.7619,  9.9532, -4.8717])  , Original 1 , True\n",
      "Model Prediction tensor([-9.5789, -1.8902, 15.0643])  , Original 2 , True\n",
      "Model Prediction tensor([-13.9663,  -9.1922,  26.4650])  , Original 2 , True\n",
      "Model Prediction tensor([-7.0570,  1.7140,  8.8007])  , Original 2 , True\n",
      "Model Prediction tensor([ 23.4357,  12.4419, -47.3034])  , Original 0 , True\n",
      "Model Prediction tensor([ 21.6106,  11.2725, -43.4133])  , Original 0 , True\n",
      "Model Prediction tensor([  3.4763,  11.3499, -15.0804])  , Original 1 , True\n",
      "Model Prediction tensor([ 19.6313,  12.1640, -41.2076])  , Original 0 , True\n",
      "Model Prediction tensor([-5.0849,  5.1282,  3.4905])  , Original 2 , False\n",
      "Model Prediction tensor([ 21.4873,  11.7163, -43.7501])  , Original 0 , True\n",
      "Model Prediction tensor([-7.4554,  0.7537, 10.0417])  , Original 1 , False\n",
      "Model Prediction tensor([ 24.4516,  12.4865, -48.7726])  , Original 0 , True\n",
      "Model Prediction tensor([ 19.8573,  10.7986, -40.4212])  , Original 0 , True\n",
      "Model Prediction tensor([  2.7977,  12.1357, -14.6404])  , Original 1 , True\n",
      "Model Prediction tensor([-13.0753,  -7.2614,  23.8027])  , Original 2 , True\n",
      "Model Prediction tensor([ 19.4556,  12.1213, -40.8911])  , Original 0 , True\n",
      "Model Prediction tensor([ 22.8728,  11.8557, -45.8444])  , Original 0 , True\n",
      "Model Prediction tensor([  2.0852,  12.5194, -13.8014])  , Original 1 , True\n",
      "Model Prediction tensor([  2.1510,  12.7051, -14.0466])  , Original 1 , True\n",
      "Model Prediction tensor([-2.0875,  9.9593, -4.2876])  , Original 1 , True\n",
      "Model Prediction tensor([  2.0053,  12.6886, -13.7817])  , Original 1 , True\n",
      "Model Prediction tensor([ 23.4497,  12.2960, -47.1551])  , Original 0 , True\n",
      "Model Prediction tensor([-1.8630,  9.7348, -4.5217])  , Original 1 , True\n",
      "Model Prediction tensor([  4.9810,  12.5423, -18.4044])  , Original 1 , True\n",
      "Model Prediction tensor([-1.3181, 10.6963, -6.2202])  , Original 1 , True\n",
      "Model Prediction tensor([-8.6998, -2.9507, 14.4602])  , Original 2 , True\n",
      "Model Prediction tensor([-1.1120,  9.5741, -5.7551])  , Original 1 , True\n",
      "Model Prediction tensor([-11.5428,  -4.9640,  20.0647])  , Original 2 , True\n",
      "Model Prediction tensor([ 28.1232,  14.1137, -55.7641])  , Original 0 , True\n",
      "Model Prediction tensor([-10.3199,  -2.5058,  16.6080])  , Original 2 , True\n",
      "Model Prediction tensor([-0.5154, 11.5501, -8.3028])  , Original 1 , True\n",
      "Model Prediction tensor([-10.2125,  -2.3264,  16.3188])  , Original 2 , True\n",
      "Model Prediction tensor([-6.6172,  2.2751,  7.7594])  , Original 1 , False\n",
      "Model Prediction tensor([  0.6882,  12.2980, -11.0355])  , Original 1 , True\n",
      "Model Prediction tensor([-1.4252,  9.6164, -5.2230])  , Original 1 , True\n",
      "Model Prediction tensor([ 25.7800,  13.2101, -51.4580])  , Original 0 , True\n",
      "Model Prediction tensor([-13.6766,  -9.3170,  26.1298])  , Original 2 , True\n",
      "Model Prediction tensor([-13.8447,  -9.6810,  26.6384])  , Original 2 , True\n"
     ]
    }
   ],
   "source": [
    "with torch.no_grad(): \n",
    "    sum=0\n",
    "    for i,data in enumerate(X_test):\n",
    "        y_eval = model.forward(data)\n",
    "        print(f'Model Prediction {y_eval}  , Original {y_test[i]} , {y_eval.argmax().item()==y_test[i]}')\n",
    "        if(y_eval.argmax().item()==y_test[i]):\n",
    "            sum+=1"
   ]
  },
  {
   "cell_type": "code",
   "execution_count": 101,
   "id": "720e44cf",
   "metadata": {},
   "outputs": [
    {
     "name": "stdout",
     "output_type": "stream",
     "text": [
      "Total Correct Answers 42, out of 45\n"
     ]
    }
   ],
   "source": [
    "print(f\"Total Correct Answers {sum}, out of {i+1}\")"
   ]
  },
  {
   "cell_type": "code",
   "execution_count": 94,
   "id": "00da3c38",
   "metadata": {},
   "outputs": [
    {
     "name": "stdout",
     "output_type": "stream",
     "text": [
      "              precision    recall  f1-score   support\n",
      "\n",
      "           0       1.00      1.00      1.00        11\n",
      "           1       0.94      0.89      0.91        18\n",
      "           2       0.88      0.94      0.91        16\n",
      "\n",
      "    accuracy                           0.93        45\n",
      "   macro avg       0.94      0.94      0.94        45\n",
      "weighted avg       0.93      0.93      0.93        45\n",
      "\n",
      "[[11  0  0]\n",
      " [ 0 16  2]\n",
      " [ 0  1 15]]\n"
     ]
    }
   ],
   "source": [
    "from sklearn.metrics import classification_report,confusion_matrix\n",
    "y_evalList = y_eval.argmax(dim=1).tolist()\n",
    "print(classification_report(y_test,y_evalList))\n",
    "print(confusion_matrix(y_test,y_evalList))"
   ]
  },
  {
   "cell_type": "markdown",
   "id": "42795954",
   "metadata": {},
   "source": [
    "### Test New Data Point"
   ]
  },
  {
   "cell_type": "code",
   "execution_count": 102,
   "id": "f8d3538c",
   "metadata": {},
   "outputs": [
    {
     "name": "stdout",
     "output_type": "stream",
     "text": [
      "2\n"
     ]
    }
   ],
   "source": [
    "newData = torch.tensor([5.9,3.0,5.1,1.8])\n",
    "with torch.no_grad(): #Turn Off Back Propagation by disabling gradient calculation.\n",
    "    y_eval = model.forward(newData)\n",
    "    print(y_eval.argmax().item())"
   ]
  },
  {
   "cell_type": "markdown",
   "id": "b95083bf",
   "metadata": {},
   "source": [
    "#### Save Model"
   ]
  },
  {
   "cell_type": "code",
   "execution_count": 105,
   "id": "9f25ec4b",
   "metadata": {},
   "outputs": [],
   "source": [
    "torch.save(model.state_dict(),'myModelSave.pt')"
   ]
  },
  {
   "cell_type": "markdown",
   "id": "3f5ef369",
   "metadata": {},
   "source": [
    "#### Load Model"
   ]
  },
  {
   "cell_type": "code",
   "execution_count": 110,
   "id": "7c8a65e3",
   "metadata": {},
   "outputs": [
    {
     "name": "stdout",
     "output_type": "stream",
     "text": [
      "Parameter containing:\n",
      "tensor([[ 0.0441,  0.4588,  0.1440,  0.1187],\n",
      "        [-0.2158,  0.3161, -0.3678,  0.2471],\n",
      "        [ 0.0794,  0.4815,  0.3981,  0.4491],\n",
      "        [ 0.2611, -0.1574, -0.0782,  0.3387],\n",
      "        [ 0.4676,  0.2054,  0.4763, -0.2112],\n",
      "        [ 0.3026, -0.4809, -0.3279,  0.2684],\n",
      "        [ 0.4784,  0.3145,  0.3822, -0.3655],\n",
      "        [-0.4630,  0.2467, -0.3159, -0.4742]], requires_grad=True)\n"
     ]
    },
    {
     "data": {
      "text/plain": [
       "<All keys matched successfully>"
      ]
     },
     "execution_count": 110,
     "metadata": {},
     "output_type": "execute_result"
    }
   ],
   "source": [
    "newModel  = MySimpleNN()\n",
    "\n",
    "params = newModel.parameters()\n",
    "# Extract the weights of the first layer\n",
    "first_layer_weights = next(params)\n",
    "print(first_layer_weights)\n",
    "\n",
    "\n",
    "newModel.load_state_dict(torch.load('myModelSave.pt'))"
   ]
  },
  {
   "cell_type": "code",
   "execution_count": 111,
   "id": "ee3e532b",
   "metadata": {},
   "outputs": [
    {
     "name": "stdout",
     "output_type": "stream",
     "text": [
      "Parameter containing:\n",
      "tensor([[-0.2636, -0.2734,  0.3005, -0.3308],\n",
      "        [-0.2350,  0.2720, -0.3718,  0.2452],\n",
      "        [ 0.5948,  0.1442,  0.6883,  1.1152],\n",
      "        [ 0.3899,  0.2145, -0.6668, -0.5334],\n",
      "        [ 0.6499,  0.3440, -0.6617, -1.3074],\n",
      "        [-0.4415,  0.3314, -0.0434,  0.3445],\n",
      "        [ 0.5310,  0.3316, -0.6633, -0.8873],\n",
      "        [-0.3208, -0.1111,  0.2972, -0.2723]], requires_grad=True)\n"
     ]
    }
   ],
   "source": [
    "#Checking if Saved model weights loaded successfully\n",
    "params = newModel.parameters()\n",
    "# Extract the weights of the first layer\n",
    "first_layer_weights = next(params)\n",
    "print(first_layer_weights)"
   ]
  },
  {
   "cell_type": "code",
   "execution_count": null,
   "id": "05dfd36f",
   "metadata": {},
   "outputs": [],
   "source": []
  }
 ],
 "metadata": {
  "kernelspec": {
   "display_name": "Python 3 (ipykernel)",
   "language": "python",
   "name": "python3"
  },
  "language_info": {
   "codemirror_mode": {
    "name": "ipython",
    "version": 3
   },
   "file_extension": ".py",
   "mimetype": "text/x-python",
   "name": "python",
   "nbconvert_exporter": "python",
   "pygments_lexer": "ipython3",
   "version": "3.10.12"
  }
 },
 "nbformat": 4,
 "nbformat_minor": 5
}
